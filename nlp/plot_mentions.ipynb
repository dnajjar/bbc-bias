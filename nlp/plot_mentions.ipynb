{
 "cells": [
  {
   "cell_type": "code",
   "execution_count": null,
   "id": "585815b5-7c9f-4698-8b42-ce44a58a00ff",
   "metadata": {},
   "outputs": [],
   "source": [
    "import pandas as pd\n",
    "import glob"
   ]
  },
  {
   "cell_type": "code",
   "execution_count": null,
   "id": "818d661e-4818-4e64-b061-a95fb78aa7d3",
   "metadata": {},
   "outputs": [],
   "source": [
    "all_casualty_files = glob.glob('./fatality_counts/*.csv')"
   ]
  },
  {
   "cell_type": "code",
   "execution_count": null,
   "id": "80744ec8-414b-47c4-9d7f-3bcde794add6",
   "metadata": {},
   "outputs": [],
   "source": [
    "all_pd = []\n",
    "\n",
    "for file in all_casualty_files:\n",
    "    all_pd.append(pd.read_csv(file))\n",
    "    \n",
    "combined = pd.concat(all_pd)"
   ]
  },
  {
   "cell_type": "code",
   "execution_count": null,
   "id": "8ae64a5d-97f5-423b-96a0-e57ab49ced26",
   "metadata": {},
   "outputs": [],
   "source": [
    "combined.drop_duplicates(['article_title', 'sentence'], keep = 'first', inplace=True)"
   ]
  },
  {
   "cell_type": "code",
   "execution_count": null,
   "id": "ff206899-7e12-492a-ab76-697e069e07ff",
   "metadata": {},
   "outputs": [],
   "source": [
    "summary = combined.groupby(['article_date', 'category']).agg({'article_id':'count'}).reset_index().pivot(index='article_date', columns='category', values='article_id').reset_index()"
   ]
  },
  {
   "cell_type": "code",
   "execution_count": null,
   "id": "6b100654-95bf-4012-8155-85d29a8dbd1e",
   "metadata": {},
   "outputs": [],
   "source": [
    "for column in ['both', 'israel', 'palestine']:\n",
    "    if column not in summary:\n",
    "        summary[column] = 0\n",
    "\n",
    "summary['both'].fillna(0, inplace=True)\n",
    "summary['israel'] = summary['israel'] + summary['both']\n",
    "summary['palestine'] = summary['palestine'] + summary['both']"
   ]
  },
  {
   "cell_type": "code",
   "execution_count": null,
   "id": "cf7eacc3-8a72-4f52-970d-aed6bbab2311",
   "metadata": {},
   "outputs": [],
   "source": [
    "summary"
   ]
  },
  {
   "cell_type": "code",
   "execution_count": null,
   "id": "fdc450b6-c581-484d-816d-f914363384fc",
   "metadata": {},
   "outputs": [],
   "source": [
    "summary.israel.sum(), summary.palestine.sum()"
   ]
  },
  {
   "cell_type": "code",
   "execution_count": null,
   "id": "63422351-4f3b-4aaf-b429-3e0ec82616c2",
   "metadata": {},
   "outputs": [],
   "source": [
    "summary['article_date'] = pd.to_datetime(summary['article_date'])"
   ]
  },
  {
   "cell_type": "code",
   "execution_count": null,
   "id": "f2c517b5-5421-41f7-a2c2-ab92e4e4275d",
   "metadata": {},
   "outputs": [],
   "source": [
    "summary_grouped = summary.groupby(pd.Grouper(key='article_date', freq='7D')).agg({'israel':'sum', 'palestine':'sum'}).reset_index()\n",
    "summary_grouped = summary_grouped[summary_grouped['article_date'] < '2023-11-18']\n",
    "\n",
    "summary_grouped"
   ]
  },
  {
   "cell_type": "code",
   "execution_count": null,
   "id": "8e6c3f79-b5bf-4117-991c-dbfbdefc540f",
   "metadata": {},
   "outputs": [],
   "source": [
    "import matplotlib.pyplot as plt\n",
    "import matplotlib.ticker as ticker\n",
    "\n",
    "fig, ax = plt.subplots(figsize=(8, 6))\n",
    "\n",
    "summary_plot = summary.copy()\n",
    "\n",
    "dates = summary_plot['article_date'].astype(str).values\n",
    " \n",
    "ax.plot(dates, summary_plot.palestine, label = 'Palestine', color = 'yellow')\n",
    "ax.plot(dates, summary_plot.israel, label = 'Israel', color = 'blue')\n",
    "\n",
    "ax.set_title(\"Mentions of Palestinian and Israeli Deaths in BBC\")\n",
    "ax.set_xlabel(\"Date\")\n",
    "ax.set_ylabel(\"Mentions of Deaths (per day)\")\n",
    "\n",
    "ax.set_facecolor(\"lightgray\")\n",
    "\n",
    "ax.xaxis.set_major_locator(ticker.MultipleLocator(2))\n",
    "ax.legend(ncols=2, framealpha=0)\n",
    "#ax.set_ybound([0,250])"
   ]
  }
 ],
 "metadata": {
  "kernelspec": {
   "display_name": "Python 3 (ipykernel)",
   "language": "python",
   "name": "python3"
  },
  "language_info": {
   "codemirror_mode": {
    "name": "ipython",
    "version": 3
   },
   "file_extension": ".py",
   "mimetype": "text/x-python",
   "name": "python",
   "nbconvert_exporter": "python",
   "pygments_lexer": "ipython3",
   "version": "3.10.9"
  }
 },
 "nbformat": 4,
 "nbformat_minor": 5
}

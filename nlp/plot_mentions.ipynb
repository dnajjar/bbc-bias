{
 "cells": [
  {
   "cell_type": "code",
   "execution_count": null,
   "id": "585815b5-7c9f-4698-8b42-ce44a58a00ff",
   "metadata": {},
   "outputs": [],
   "source": [
    "import pandas as pd\n",
    "import glob"
   ]
  },
  {
   "cell_type": "code",
   "execution_count": null,
   "id": "a307dadb-8773-425c-ad5d-bfa8fce62716",
   "metadata": {},
   "outputs": [],
   "source": [
    "# function to process all individual csv annotations into one dataframe\n",
    "def return_df_from_files(casualty_directory):\n",
    "    df = pd.concat([pd.read_csv(f) for f in glob.glob(casualty_directory+'*.csv')])\n",
    "    \n",
    "    # make sure we do not have any duplicate sentences for same articles\n",
    "    df.drop_duplicates(['article_id', 'sentence'], keep = 'first', inplace=True)\n",
    "    \n",
    "    return df\n",
    "    \n",
    "#combined = return_df_from_files('./fatality_counts/')"
   ]
  },
  {
   "cell_type": "code",
   "execution_count": null,
   "id": "7f8e3d54-e55c-4c74-a996-282ec93b350a",
   "metadata": {},
   "outputs": [],
   "source": [
    "# otherwise we can load from saved annotations\n",
    "\n",
    "annotations_articles = pd.read_csv('./fatality_counts/summary/annotations_articles_20231007-20231202.csv')\n",
    "annotations_livefeeds = pd.read_csv('./fatality_counts/summary/annotations_livefeed_20231007-20231202.csv')\n",
    "\n",
    "combined = pd.concat([annotations_articles, annotations_livefeeds])\n",
    "\n",
    "# set to datetime and filter for period of interest\n",
    "combined['article_date'] = pd.to_datetime(combined['article_date'])\n",
    "combined = combined[(combined['article_date'] > '2023-10-06') & (combined['article_date'] < '2023-12-02')]\n",
    "\n",
    "print(combined.shape)"
   ]
  },
  {
   "cell_type": "code",
   "execution_count": null,
   "id": "6b100654-95bf-4012-8155-85d29a8dbd1e",
   "metadata": {},
   "outputs": [],
   "source": [
    "summary = combined.groupby(['article_date', 'category']).agg({'article_id':'count'}).reset_index().pivot(index='article_date', columns='category', values='article_id').reset_index()\n",
    "\n",
    "for column in ['both', 'israel', 'palestine']:\n",
    "    if column not in summary:\n",
    "        summary[column] = 0\n",
    "    summary[column].fillna(0, inplace=True)\n",
    "\n",
    "summary['both'].fillna(0, inplace=True)\n",
    "summary['israel'] = summary['israel'] + summary['both']\n",
    "summary['palestine'] = summary['palestine'] + summary['both']\n",
    "\n",
    "summary.head(5)"
   ]
  },
  {
   "cell_type": "code",
   "execution_count": null,
   "id": "f2c517b5-5421-41f7-a2c2-ab92e4e4275d",
   "metadata": {},
   "outputs": [],
   "source": [
    "summary_grouped = summary.groupby(pd.Grouper(key='article_date', freq='7D')).agg({'israel':'sum', 'palestine':'sum'}).reset_index()\n",
    "summary_grouped = summary_grouped[summary_grouped['article_date'] < '2023-12-03']\n",
    "\n",
    "summary_grouped"
   ]
  },
  {
   "cell_type": "code",
   "execution_count": null,
   "id": "8e6c3f79-b5bf-4117-991c-dbfbdefc540f",
   "metadata": {},
   "outputs": [],
   "source": [
    "import matplotlib.pyplot as plt\n",
    "import matplotlib.ticker as ticker\n",
    "\n",
    "fig, ax = plt.subplots(figsize=(8, 6))\n",
    "\n",
    "summary_plot = summary.copy()\n",
    "\n",
    "dates = summary_plot['article_date'].astype(str).values\n",
    " \n",
    "ax.plot(dates, summary_plot.palestine, label = 'Palestine', color = 'yellow')\n",
    "ax.plot(dates, summary_plot.israel, label = 'Israel', color = 'blue')\n",
    "\n",
    "ax.set_title(\"Mentions of Palestinian and Israeli Deaths in BBC (incl. livefeed data)\")\n",
    "ax.set_xlabel(\"Date\")\n",
    "ax.set_ylabel(\"Mentions of Deaths (per day)\")\n",
    "\n",
    "ax.set_facecolor(\"lightgray\")\n",
    "plt.xticks(rotation=45)\n",
    "ax.xaxis.set_major_locator(ticker.MultipleLocator(7))\n",
    "ax.legend(ncols=2, framealpha=0)\n",
    "\n",
    "plt.savefig('../outputs/bbc_mentions_20231007_to_20231202.png', bbox_inches='tight', dpi=300)"
   ]
  }
 ],
 "metadata": {
  "kernelspec": {
   "display_name": "Python 3 (ipykernel)",
   "language": "python",
   "name": "python3"
  },
  "language_info": {
   "codemirror_mode": {
    "name": "ipython",
    "version": 3
   },
   "file_extension": ".py",
   "mimetype": "text/x-python",
   "name": "python",
   "nbconvert_exporter": "python",
   "pygments_lexer": "ipython3",
   "version": "3.10.9"
  }
 },
 "nbformat": 4,
 "nbformat_minor": 5
}
